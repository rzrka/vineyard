{
  "nbformat": 4,
  "nbformat_minor": 0,
  "metadata": {
    "colab": {
      "provenance": [],
      "collapsed_sections": [
        "XODmXZVk18Qw",
        "q5YGFc7212Mz"
      ]
    },
    "kernelspec": {
      "name": "python3",
      "display_name": "Python 3"
    },
    "language_info": {
      "name": "python"
    }
  },
  "cells": [
    {
      "cell_type": "markdown",
      "source": [
        "# Описание"
      ],
      "metadata": {
        "id": "XODmXZVk18Qw"
      }
    },
    {
      "cell_type": "markdown",
      "source": [
        "\n",
        "x1 = \"верхний левый угол\"  \n",
        "y1 = \"верхний левый угол\"  \n",
        "x2 = \"верхний правый угол\"  \n",
        "y2 = \"верхний правый угол\"  \n",
        "x3 = \"нижний правый угол\"  \n",
        "y3 = \"нижний правый угол\"  \n",
        "x4 = \"нижний левый угол\"  \n",
        "y4 = \"нижний левый угол\"  \n",
        "elevation = \"высота\"  \n",
        "inclination = \"максимальный угол наклона\"  \n",
        "temp = \"температура\"  \n",
        "pressure = \"давление\"  \n",
        "humidity = \"влажность\"  \n",
        "wind_speed = \"скорость ветра\"  \n",
        "wind_gust = \"порыв ветра\"  \n",
        "clouds = \"облачность\"  \n",
        "weather = \"тип погоды\"  \n",
        "bdod =   \n",
        "cec =   \n",
        "cfvo =   \n",
        "clay =   \n",
        "nitrogen =   \n",
        "ocd =  \n",
        "ocs =  \n",
        "phh2o =  \n",
        "sand =  \n",
        "silt =  \n",
        "soc =  \n",
        "score =  "
      ],
      "metadata": {
        "id": "aIlQfQ5l2B5b"
      }
    },
    {
      "cell_type": "markdown",
      "source": [
        "# Создание модели"
      ],
      "metadata": {
        "id": "q5YGFc7212Mz"
      }
    },
    {
      "cell_type": "code",
      "execution_count": 28,
      "metadata": {
        "id": "t4deC34-qZO6"
      },
      "outputs": [],
      "source": [
        "import pandas as pd\n",
        "import matplotlib.pyplot as plt\n",
        "import seaborn as sns\n",
        "import sklearn"
      ]
    },
    {
      "cell_type": "markdown",
      "source": [
        "Пока что с высотой и углом наклона не работаем"
      ],
      "metadata": {
        "id": "BiuXDcXxzJjB"
      }
    },
    {
      "cell_type": "code",
      "source": [
        "train_df1 = pd.read_pickle(\"./sample_data/vineyard6.pickle\")\n",
        "train_df1 = pd.DataFrame.from_dict(train_df1.values())\n",
        "print(train_df1) "
      ],
      "metadata": {
        "colab": {
          "base_uri": "https://localhost:8080/"
        },
        "id": "edkDGfkTsNnj",
        "outputId": "8bca48ec-d3b1-4724-a4a6-1e8f83f84ef2"
      },
      "execution_count": 27,
      "outputs": [
        {
          "output_type": "stream",
          "name": "stdout",
          "text": [
            "           x1         y1        x2         y2        x3         y3        x4  \\\n",
            "0    7.938728  44.651236  7.940978  44.651236  7.938728  44.653486  7.940978   \n",
            "1    7.940978  44.651236  7.943228  44.651236  7.940978  44.653486  7.943228   \n",
            "2    7.943228  44.651236  7.945478  44.651236  7.943228  44.653486  7.945478   \n",
            "3    7.945478  44.651236  7.947728  44.651236  7.945478  44.653486  7.947728   \n",
            "4    7.947728  44.651236  7.949978  44.651236  7.947728  44.653486  7.949978   \n",
            "..        ...        ...       ...        ...       ...        ...       ...   \n",
            "763  7.981478  44.581486  7.983728  44.581486  7.981478  44.583736  7.983728   \n",
            "764  7.983728  44.581486  7.985978  44.581486  7.983728  44.583736  7.985978   \n",
            "765  7.985978  44.581486  7.988228  44.581486  7.985978  44.583736  7.988228   \n",
            "766  7.988228  44.581486  7.990478  44.581486  7.988228  44.583736  7.990478   \n",
            "767  7.990478  44.581486  7.992728  44.581486  7.990478  44.583736  7.992728   \n",
            "\n",
            "            y4  elevation   temp  ...            clay        nitrogen  \\\n",
            "0    44.653486        264  26.11  ...  {'0-5cm': 266}  {'0-5cm': 374}   \n",
            "1    44.653486        252  26.11  ...  {'0-5cm': 266}  {'0-5cm': 374}   \n",
            "2    44.653486        255  26.72  ...  {'0-5cm': 283}  {'0-5cm': 346}   \n",
            "3    44.653486        263  26.72  ...  {'0-5cm': 285}  {'0-5cm': 299}   \n",
            "4    44.653486        249  26.72  ...  {'0-5cm': 285}  {'0-5cm': 299}   \n",
            "..         ...        ...    ...  ...             ...             ...   \n",
            "763  44.583736        446  26.72  ...  {'0-5cm': 249}  {'0-5cm': 379}   \n",
            "764  44.583736        410  26.72  ...  {'0-5cm': 266}  {'0-5cm': 392}   \n",
            "765  44.583736        417  26.72  ...  {'0-5cm': 266}  {'0-5cm': 419}   \n",
            "766  44.583736        424  26.72  ...  {'0-5cm': 266}  {'0-5cm': 419}   \n",
            "767  44.583736        381  26.72  ...  {'0-5cm': 267}  {'0-5cm': 370}   \n",
            "\n",
            "                ocd             ocs          phh2o            sand  \\\n",
            "0    {'0-5cm': 425}  {'0-30cm': 49}  {'0-5cm': 75}  {'0-5cm': 301}   \n",
            "1    {'0-5cm': 425}  {'0-30cm': 49}  {'0-5cm': 75}  {'0-5cm': 301}   \n",
            "2    {'0-5cm': 406}  {'0-30cm': 43}  {'0-5cm': 76}  {'0-5cm': 292}   \n",
            "3    {'0-5cm': 411}  {'0-30cm': 42}  {'0-5cm': 76}  {'0-5cm': 291}   \n",
            "4    {'0-5cm': 411}  {'0-30cm': 42}  {'0-5cm': 76}  {'0-5cm': 291}   \n",
            "..              ...             ...            ...             ...   \n",
            "763  {'0-5cm': 428}  {'0-30cm': 51}  {'0-5cm': 73}  {'0-5cm': 301}   \n",
            "764  {'0-5cm': 416}  {'0-30cm': 51}  {'0-5cm': 74}  {'0-5cm': 297}   \n",
            "765  {'0-5cm': 423}  {'0-30cm': 52}  {'0-5cm': 72}  {'0-5cm': 298}   \n",
            "766  {'0-5cm': 423}  {'0-30cm': 52}  {'0-5cm': 72}  {'0-5cm': 298}   \n",
            "767  {'0-5cm': 415}  {'0-30cm': 53}  {'0-5cm': 74}  {'0-5cm': 291}   \n",
            "\n",
            "               silt             soc   degress inclination  \n",
            "0    {'0-5cm': 433}  {'0-5cm': 475}  6.842773    6.842773  \n",
            "1    {'0-5cm': 433}  {'0-5cm': 475}       NaN   13.495733  \n",
            "2    {'0-5cm': 424}  {'0-5cm': 427}       NaN   11.309932  \n",
            "3    {'0-5cm': 424}  {'0-5cm': 375}       NaN    6.390495  \n",
            "4    {'0-5cm': 424}  {'0-5cm': 375}       NaN    7.744711  \n",
            "..              ...             ...       ...         ...  \n",
            "763  {'0-5cm': 450}  {'0-5cm': 484}       NaN   16.066401  \n",
            "764  {'0-5cm': 437}  {'0-5cm': 436}       NaN   16.066401  \n",
            "765  {'0-5cm': 436}  {'0-5cm': 458}       NaN   21.801409  \n",
            "766  {'0-5cm': 436}  {'0-5cm': 458}       NaN   22.195460  \n",
            "767  {'0-5cm': 443}  {'0-5cm': 443}       NaN   18.983217  \n",
            "\n",
            "[768 rows x 29 columns]\n"
          ]
        }
      ]
    },
    {
      "cell_type": "code",
      "source": [],
      "metadata": {
        "colab": {
          "base_uri": "https://localhost:8080/",
          "height": 174
        },
        "id": "IIBn2kRTt8Od",
        "outputId": "706c8a44-6261-42f2-a330-05dfb775a4de"
      },
      "execution_count": null,
      "outputs": [
        {
          "output_type": "execute_result",
          "data": {
            "text/plain": [
              "   col_1 col_2\n",
              "0      3     a\n",
              "1      2     b\n",
              "2      1     c\n",
              "3      0     d"
            ],
            "text/html": [
              "\n",
              "  <div id=\"df-2d6ee46e-a45c-4208-8956-b28706241f85\">\n",
              "    <div class=\"colab-df-container\">\n",
              "      <div>\n",
              "<style scoped>\n",
              "    .dataframe tbody tr th:only-of-type {\n",
              "        vertical-align: middle;\n",
              "    }\n",
              "\n",
              "    .dataframe tbody tr th {\n",
              "        vertical-align: top;\n",
              "    }\n",
              "\n",
              "    .dataframe thead th {\n",
              "        text-align: right;\n",
              "    }\n",
              "</style>\n",
              "<table border=\"1\" class=\"dataframe\">\n",
              "  <thead>\n",
              "    <tr style=\"text-align: right;\">\n",
              "      <th></th>\n",
              "      <th>col_1</th>\n",
              "      <th>col_2</th>\n",
              "    </tr>\n",
              "  </thead>\n",
              "  <tbody>\n",
              "    <tr>\n",
              "      <th>0</th>\n",
              "      <td>3</td>\n",
              "      <td>a</td>\n",
              "    </tr>\n",
              "    <tr>\n",
              "      <th>1</th>\n",
              "      <td>2</td>\n",
              "      <td>b</td>\n",
              "    </tr>\n",
              "    <tr>\n",
              "      <th>2</th>\n",
              "      <td>1</td>\n",
              "      <td>c</td>\n",
              "    </tr>\n",
              "    <tr>\n",
              "      <th>3</th>\n",
              "      <td>0</td>\n",
              "      <td>d</td>\n",
              "    </tr>\n",
              "  </tbody>\n",
              "</table>\n",
              "</div>\n",
              "      <button class=\"colab-df-convert\" onclick=\"convertToInteractive('df-2d6ee46e-a45c-4208-8956-b28706241f85')\"\n",
              "              title=\"Convert this dataframe to an interactive table.\"\n",
              "              style=\"display:none;\">\n",
              "        \n",
              "  <svg xmlns=\"http://www.w3.org/2000/svg\" height=\"24px\"viewBox=\"0 0 24 24\"\n",
              "       width=\"24px\">\n",
              "    <path d=\"M0 0h24v24H0V0z\" fill=\"none\"/>\n",
              "    <path d=\"M18.56 5.44l.94 2.06.94-2.06 2.06-.94-2.06-.94-.94-2.06-.94 2.06-2.06.94zm-11 1L8.5 8.5l.94-2.06 2.06-.94-2.06-.94L8.5 2.5l-.94 2.06-2.06.94zm10 10l.94 2.06.94-2.06 2.06-.94-2.06-.94-.94-2.06-.94 2.06-2.06.94z\"/><path d=\"M17.41 7.96l-1.37-1.37c-.4-.4-.92-.59-1.43-.59-.52 0-1.04.2-1.43.59L10.3 9.45l-7.72 7.72c-.78.78-.78 2.05 0 2.83L4 21.41c.39.39.9.59 1.41.59.51 0 1.02-.2 1.41-.59l7.78-7.78 2.81-2.81c.8-.78.8-2.07 0-2.86zM5.41 20L4 18.59l7.72-7.72 1.47 1.35L5.41 20z\"/>\n",
              "  </svg>\n",
              "      </button>\n",
              "      \n",
              "  <style>\n",
              "    .colab-df-container {\n",
              "      display:flex;\n",
              "      flex-wrap:wrap;\n",
              "      gap: 12px;\n",
              "    }\n",
              "\n",
              "    .colab-df-convert {\n",
              "      background-color: #E8F0FE;\n",
              "      border: none;\n",
              "      border-radius: 50%;\n",
              "      cursor: pointer;\n",
              "      display: none;\n",
              "      fill: #1967D2;\n",
              "      height: 32px;\n",
              "      padding: 0 0 0 0;\n",
              "      width: 32px;\n",
              "    }\n",
              "\n",
              "    .colab-df-convert:hover {\n",
              "      background-color: #E2EBFA;\n",
              "      box-shadow: 0px 1px 2px rgba(60, 64, 67, 0.3), 0px 1px 3px 1px rgba(60, 64, 67, 0.15);\n",
              "      fill: #174EA6;\n",
              "    }\n",
              "\n",
              "    [theme=dark] .colab-df-convert {\n",
              "      background-color: #3B4455;\n",
              "      fill: #D2E3FC;\n",
              "    }\n",
              "\n",
              "    [theme=dark] .colab-df-convert:hover {\n",
              "      background-color: #434B5C;\n",
              "      box-shadow: 0px 1px 3px 1px rgba(0, 0, 0, 0.15);\n",
              "      filter: drop-shadow(0px 1px 2px rgba(0, 0, 0, 0.3));\n",
              "      fill: #FFFFFF;\n",
              "    }\n",
              "  </style>\n",
              "\n",
              "      <script>\n",
              "        const buttonEl =\n",
              "          document.querySelector('#df-2d6ee46e-a45c-4208-8956-b28706241f85 button.colab-df-convert');\n",
              "        buttonEl.style.display =\n",
              "          google.colab.kernel.accessAllowed ? 'block' : 'none';\n",
              "\n",
              "        async function convertToInteractive(key) {\n",
              "          const element = document.querySelector('#df-2d6ee46e-a45c-4208-8956-b28706241f85');\n",
              "          const dataTable =\n",
              "            await google.colab.kernel.invokeFunction('convertToInteractive',\n",
              "                                                     [key], {});\n",
              "          if (!dataTable) return;\n",
              "\n",
              "          const docLinkHtml = 'Like what you see? Visit the ' +\n",
              "            '<a target=\"_blank\" href=https://colab.research.google.com/notebooks/data_table.ipynb>data table notebook</a>'\n",
              "            + ' to learn more about interactive tables.';\n",
              "          element.innerHTML = '';\n",
              "          dataTable['output_type'] = 'display_data';\n",
              "          await google.colab.output.renderOutput(dataTable, element);\n",
              "          const docLink = document.createElement('div');\n",
              "          docLink.innerHTML = docLinkHtml;\n",
              "          element.appendChild(docLink);\n",
              "        }\n",
              "      </script>\n",
              "    </div>\n",
              "  </div>\n",
              "  "
            ]
          },
          "metadata": {},
          "execution_count": 9
        }
      ]
    },
    {
      "cell_type": "markdown",
      "source": [],
      "metadata": {
        "id": "w-khNV1B3Uwy"
      }
    }
  ]
}